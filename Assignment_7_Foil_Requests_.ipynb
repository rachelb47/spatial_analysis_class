{
  "nbformat": 4,
  "nbformat_minor": 0,
  "metadata": {
    "colab": {
      "name": "Assignment 7 Foil Requests .ipynb",
      "provenance": [],
      "collapsed_sections": [],
      "include_colab_link": true
    },
    "kernelspec": {
      "name": "python3",
      "display_name": "Python 3"
    }
  },
  "cells": [
    {
      "cell_type": "markdown",
      "metadata": {
        "id": "view-in-github",
        "colab_type": "text"
      },
      "source": [
        "<a href=\"https://colab.research.google.com/github/rachelb47/spatial_analysis_class/blob/master/Assignment_7_Foil_Requests_.ipynb\" target=\"_parent\"><img src=\"https://colab.research.google.com/assets/colab-badge.svg\" alt=\"Open In Colab\"/></a>"
      ]
    },
    {
      "cell_type": "markdown",
      "metadata": {
        "id": "Ul6eAZkBec1z",
        "colab_type": "text"
      },
      "source": [
        "Analyzing 2019 Foil Requests Summary Statistics "
      ]
    },
    {
      "cell_type": "code",
      "metadata": {
        "id": "OqxFn_Y6pFr4",
        "colab_type": "code",
        "colab": {}
      },
      "source": [
        ""
      ],
      "execution_count": 0,
      "outputs": []
    },
    {
      "cell_type": "markdown",
      "metadata": {
        "id": "6FE-QA3viX3L",
        "colab_type": "text"
      },
      "source": [
        "# Using the Python demo from class, I will Analyze 2019's FOIL request Summary Statistics to uncover which NYC agency is most and least responsive to providing data whether public or not. To find if there has been any data voluntarily uploaded to NYC Open Data. "
      ]
    },
    {
      "cell_type": "code",
      "metadata": {
        "id": "dA9FWdWvWqb6",
        "colab_type": "code",
        "colab": {}
      },
      "source": [
        "import pandas as pd\n",
        "import numpy as np\n"
      ],
      "execution_count": 0,
      "outputs": []
    },
    {
      "cell_type": "code",
      "metadata": {
        "id": "NKuBm2YWWyHL",
        "colab_type": "code",
        "outputId": "c9358b7a-ef29-4ec1-b631-14fbbca819ce",
        "colab": {
          "base_uri": "https://localhost:8080/",
          "height": 35
        }
      },
      "source": [
        "!pip install -q pyjanitor"
      ],
      "execution_count": 0,
      "outputs": [
        {
          "output_type": "stream",
          "text": [
            "\u001b[?25l\r\u001b[K     |██████▋                         | 10kB 24.7MB/s eta 0:00:01\r\u001b[K     |█████████████▎                  | 20kB 1.8MB/s eta 0:00:01\r\u001b[K     |████████████████████            | 30kB 2.6MB/s eta 0:00:01\r\u001b[K     |██████████████████████████▌     | 40kB 1.7MB/s eta 0:00:01\r\u001b[K     |████████████████████████████████| 51kB 1.7MB/s \n",
            "\u001b[?25h"
          ],
          "name": "stdout"
        }
      ]
    },
    {
      "cell_type": "code",
      "metadata": {
        "id": "VHHliGcgW2M5",
        "colab_type": "code",
        "colab": {}
      },
      "source": [
        "import janitor"
      ],
      "execution_count": 0,
      "outputs": []
    },
    {
      "cell_type": "code",
      "metadata": {
        "id": "07oKMxeSZF3U",
        "colab_type": "code",
        "colab": {}
      },
      "source": [
        "Foil = pd.read_csv('https://drive.google.com/uc?export=download&id=148AROSoO-D8XLboRvHF-O3Zcn5qPXXEx')\n",
        "Foil = janitor.clean_names(Foil)\n"
      ],
      "execution_count": 0,
      "outputs": []
    },
    {
      "cell_type": "markdown",
      "metadata": {
        "id": "YOWIVMvnalzb",
        "colab_type": "text"
      },
      "source": [
        "Preview Dataframe "
      ]
    },
    {
      "cell_type": "code",
      "metadata": {
        "id": "C5KTfU_uao0A",
        "colab_type": "code",
        "outputId": "2b0d8e75-4d38-4028-8d6e-3e964dd499df",
        "colab": {
          "base_uri": "https://localhost:8080/",
          "height": 198
        }
      },
      "source": [
        "Foil.head()"
      ],
      "execution_count": 0,
      "outputs": [
        {
          "output_type": "execute_result",
          "data": {
            "text/html": [
              "<div>\n",
              "<style scoped>\n",
              "    .dataframe tbody tr th:only-of-type {\n",
              "        vertical-align: middle;\n",
              "    }\n",
              "\n",
              "    .dataframe tbody tr th {\n",
              "        vertical-align: top;\n",
              "    }\n",
              "\n",
              "    .dataframe thead th {\n",
              "        text-align: right;\n",
              "    }\n",
              "</style>\n",
              "<table border=\"1\" class=\"dataframe\">\n",
              "  <thead>\n",
              "    <tr style=\"text-align: right;\">\n",
              "      <th></th>\n",
              "      <th>agency_name</th>\n",
              "      <th>release_of_any_data_</th>\n",
              "      <th>public_data_not_released_yet</th>\n",
              "      <th>already_published_</th>\n",
              "      <th>volunteer</th>\n",
              "    </tr>\n",
              "  </thead>\n",
              "  <tbody>\n",
              "    <tr>\n",
              "      <th>0</th>\n",
              "      <td>311 *</td>\n",
              "      <td>NaN</td>\n",
              "      <td>NaN</td>\n",
              "      <td>NaN</td>\n",
              "      <td>NaN</td>\n",
              "    </tr>\n",
              "    <tr>\n",
              "      <th>1</th>\n",
              "      <td>Administration for Children's Services (ACS)</td>\n",
              "      <td>4.0</td>\n",
              "      <td>0.0</td>\n",
              "      <td>0.0</td>\n",
              "      <td>0.0</td>\n",
              "    </tr>\n",
              "    <tr>\n",
              "      <th>2</th>\n",
              "      <td>Board of Standards and Appeals (BSA)</td>\n",
              "      <td>28.0</td>\n",
              "      <td>28.0</td>\n",
              "      <td>0.0</td>\n",
              "      <td>0.0</td>\n",
              "    </tr>\n",
              "    <tr>\n",
              "      <th>3</th>\n",
              "      <td>Brooklyn Borough President (BBP)</td>\n",
              "      <td>5.0</td>\n",
              "      <td>5.0</td>\n",
              "      <td>0.0</td>\n",
              "      <td>0.0</td>\n",
              "    </tr>\n",
              "    <tr>\n",
              "      <th>4</th>\n",
              "      <td>Business Integrity Commission (BIC)</td>\n",
              "      <td>36.0</td>\n",
              "      <td>0.0</td>\n",
              "      <td>6.0</td>\n",
              "      <td>0.0</td>\n",
              "    </tr>\n",
              "  </tbody>\n",
              "</table>\n",
              "</div>"
            ],
            "text/plain": [
              "                                    agency_name  ...  volunteer\n",
              "0                                         311 *  ...        NaN\n",
              "1  Administration for Children's Services (ACS)  ...        0.0\n",
              "2          Board of Standards and Appeals (BSA)  ...        0.0\n",
              "3              Brooklyn Borough President (BBP)  ...        0.0\n",
              "4           Business Integrity Commission (BIC)  ...        0.0\n",
              "\n",
              "[5 rows x 5 columns]"
            ]
          },
          "metadata": {
            "tags": []
          },
          "execution_count": 9
        }
      ]
    },
    {
      "cell_type": "code",
      "metadata": {
        "id": "I1RmAak4bAq5",
        "colab_type": "code",
        "outputId": "42797b2e-fe71-4640-fda2-cc1aee4f0079",
        "colab": {
          "base_uri": "https://localhost:8080/",
          "height": 259
        }
      },
      "source": [
        "Foil.info"
      ],
      "execution_count": 0,
      "outputs": [
        {
          "output_type": "execute_result",
          "data": {
            "text/plain": [
              "<bound method DataFrame.info of                                           agency_name  ...  volunteer\n",
              "0                                               311 *  ...        NaN\n",
              "1        Administration for Children's Services (ACS)  ...        0.0\n",
              "2                Board of Standards and Appeals (BSA)  ...        0.0\n",
              "3                    Brooklyn Borough President (BBP)  ...        0.0\n",
              "4                 Business Integrity Commission (BIC)  ...        0.0\n",
              "..                                                ...  ...        ...\n",
              "81                     Queens Borough President (QBP)  ...        0.0\n",
              "82                School Construction Authority (SCA)  ...        0.0\n",
              "83   Staten Island Borough President's Office (SIBPO)  ...        0.0\n",
              "84                Taxi and Limousine Commission (TLC)  ...        0.0\n",
              "85  * FOIL metrics for 311 are incorporated as par...  ...        NaN\n",
              "\n",
              "[86 rows x 5 columns]>"
            ]
          },
          "metadata": {
            "tags": []
          },
          "execution_count": 10
        }
      ]
    },
    {
      "cell_type": "markdown",
      "metadata": {
        "id": "rwt7Z1dtbjum",
        "colab_type": "text"
      },
      "source": [
        "# We will sort dataframe to find the Agency that releases the most data requested through FOIL requests by looking at the column \"release_of_any_data\" in ascending order. "
      ]
    },
    {
      "cell_type": "code",
      "metadata": {
        "id": "dlC3ct13b4gn",
        "colab_type": "code",
        "outputId": "f04fc944-06a1-4845-f9f9-17931497710c",
        "colab": {
          "base_uri": "https://localhost:8080/",
          "height": 198
        }
      },
      "source": [
        "Foil.sort_values('release_of_any_data_', ascending=False).head()"
      ],
      "execution_count": 0,
      "outputs": [
        {
          "output_type": "execute_result",
          "data": {
            "text/html": [
              "<div>\n",
              "<style scoped>\n",
              "    .dataframe tbody tr th:only-of-type {\n",
              "        vertical-align: middle;\n",
              "    }\n",
              "\n",
              "    .dataframe tbody tr th {\n",
              "        vertical-align: top;\n",
              "    }\n",
              "\n",
              "    .dataframe thead th {\n",
              "        text-align: right;\n",
              "    }\n",
              "</style>\n",
              "<table border=\"1\" class=\"dataframe\">\n",
              "  <thead>\n",
              "    <tr style=\"text-align: right;\">\n",
              "      <th></th>\n",
              "      <th>agency_name</th>\n",
              "      <th>release_of_any_data_</th>\n",
              "      <th>public_data_not_released_yet</th>\n",
              "      <th>already_published_</th>\n",
              "      <th>volunteer</th>\n",
              "    </tr>\n",
              "  </thead>\n",
              "  <tbody>\n",
              "    <tr>\n",
              "      <th>35</th>\n",
              "      <td>Department of Transportation (DOT)</td>\n",
              "      <td>3548.0</td>\n",
              "      <td>1593.0</td>\n",
              "      <td>3327.0</td>\n",
              "      <td>0.0</td>\n",
              "    </tr>\n",
              "    <tr>\n",
              "      <th>84</th>\n",
              "      <td>Taxi and Limousine Commission (TLC)</td>\n",
              "      <td>1661.0</td>\n",
              "      <td>41.0</td>\n",
              "      <td>123.0</td>\n",
              "      <td>0.0</td>\n",
              "    </tr>\n",
              "    <tr>\n",
              "      <th>28</th>\n",
              "      <td>Department of Parks and Recreation (DPR)</td>\n",
              "      <td>748.0</td>\n",
              "      <td>57.0</td>\n",
              "      <td>576.0</td>\n",
              "      <td>0.0</td>\n",
              "    </tr>\n",
              "    <tr>\n",
              "      <th>18</th>\n",
              "      <td>Department of Correction (DOC)</td>\n",
              "      <td>628.0</td>\n",
              "      <td>0.0</td>\n",
              "      <td>0.0</td>\n",
              "      <td>0.0</td>\n",
              "    </tr>\n",
              "    <tr>\n",
              "      <th>25</th>\n",
              "      <td>Department of Housing Preservation and Develop...</td>\n",
              "      <td>611.0</td>\n",
              "      <td>7.0</td>\n",
              "      <td>600.0</td>\n",
              "      <td>0.0</td>\n",
              "    </tr>\n",
              "  </tbody>\n",
              "</table>\n",
              "</div>"
            ],
            "text/plain": [
              "                                          agency_name  ...  volunteer\n",
              "35                 Department of Transportation (DOT)  ...        0.0\n",
              "84                Taxi and Limousine Commission (TLC)  ...        0.0\n",
              "28           Department of Parks and Recreation (DPR)  ...        0.0\n",
              "18                     Department of Correction (DOC)  ...        0.0\n",
              "25  Department of Housing Preservation and Develop...  ...        0.0\n",
              "\n",
              "[5 rows x 5 columns]"
            ]
          },
          "metadata": {
            "tags": []
          },
          "execution_count": 11
        }
      ]
    },
    {
      "cell_type": "markdown",
      "metadata": {
        "id": "rOOuo_wQjr3U",
        "colab_type": "text"
      },
      "source": [
        "I will sort the data to find which Agencies have the most number of FOIL responses that included the release of a public dataset not yet published on the Open Data Portal or on the plan for future release by sorting the column 'Public_data_not_released_yet'. "
      ]
    },
    {
      "cell_type": "code",
      "metadata": {
        "id": "77ScpM3-kyEZ",
        "colab_type": "code",
        "outputId": "c0e46de1-4ade-49f4-811e-dc07b61d9b72",
        "colab": {
          "base_uri": "https://localhost:8080/",
          "height": 198
        }
      },
      "source": [
        "Foil.sort_values('public_data_not_released_yet', ascending=False).head()"
      ],
      "execution_count": 0,
      "outputs": [
        {
          "output_type": "execute_result",
          "data": {
            "text/html": [
              "<div>\n",
              "<style scoped>\n",
              "    .dataframe tbody tr th:only-of-type {\n",
              "        vertical-align: middle;\n",
              "    }\n",
              "\n",
              "    .dataframe tbody tr th {\n",
              "        vertical-align: top;\n",
              "    }\n",
              "\n",
              "    .dataframe thead th {\n",
              "        text-align: right;\n",
              "    }\n",
              "</style>\n",
              "<table border=\"1\" class=\"dataframe\">\n",
              "  <thead>\n",
              "    <tr style=\"text-align: right;\">\n",
              "      <th></th>\n",
              "      <th>agency_name</th>\n",
              "      <th>release_of_any_data_</th>\n",
              "      <th>public_data_not_released_yet</th>\n",
              "      <th>already_published_</th>\n",
              "      <th>volunteer</th>\n",
              "    </tr>\n",
              "  </thead>\n",
              "  <tbody>\n",
              "    <tr>\n",
              "      <th>35</th>\n",
              "      <td>Department of Transportation (DOT)</td>\n",
              "      <td>3548.0</td>\n",
              "      <td>1593.0</td>\n",
              "      <td>3327.0</td>\n",
              "      <td>0.0</td>\n",
              "    </tr>\n",
              "    <tr>\n",
              "      <th>17</th>\n",
              "      <td>Department of Consumer Affairs (DCA)</td>\n",
              "      <td>122.0</td>\n",
              "      <td>89.0</td>\n",
              "      <td>33.0</td>\n",
              "      <td>1.0</td>\n",
              "    </tr>\n",
              "    <tr>\n",
              "      <th>28</th>\n",
              "      <td>Department of Parks and Recreation (DPR)</td>\n",
              "      <td>748.0</td>\n",
              "      <td>57.0</td>\n",
              "      <td>576.0</td>\n",
              "      <td>0.0</td>\n",
              "    </tr>\n",
              "    <tr>\n",
              "      <th>24</th>\n",
              "      <td>Department of Health and Mental Hygiene (DOHMH)</td>\n",
              "      <td>62.0</td>\n",
              "      <td>44.0</td>\n",
              "      <td>8.0</td>\n",
              "      <td>0.0</td>\n",
              "    </tr>\n",
              "    <tr>\n",
              "      <th>84</th>\n",
              "      <td>Taxi and Limousine Commission (TLC)</td>\n",
              "      <td>1661.0</td>\n",
              "      <td>41.0</td>\n",
              "      <td>123.0</td>\n",
              "      <td>0.0</td>\n",
              "    </tr>\n",
              "  </tbody>\n",
              "</table>\n",
              "</div>"
            ],
            "text/plain": [
              "                                        agency_name  ...  volunteer\n",
              "35               Department of Transportation (DOT)  ...        0.0\n",
              "17             Department of Consumer Affairs (DCA)  ...        1.0\n",
              "28         Department of Parks and Recreation (DPR)  ...        0.0\n",
              "24  Department of Health and Mental Hygiene (DOHMH)  ...        0.0\n",
              "84              Taxi and Limousine Commission (TLC)  ...        0.0\n",
              "\n",
              "[5 rows x 5 columns]"
            ]
          },
          "metadata": {
            "tags": []
          },
          "execution_count": 12
        }
      ]
    },
    {
      "cell_type": "markdown",
      "metadata": {
        "id": "JbUrOXFV7_8k",
        "colab_type": "text"
      },
      "source": [
        "Department of Transportation has released the most data in response to FOIL requests. "
      ]
    },
    {
      "cell_type": "markdown",
      "metadata": {
        "id": "q7Gt4Z6YfAyM",
        "colab_type": "text"
      },
      "source": [
        "# I will Sort dataframe to find whch Agency Data that was **voluntarily** posted on Open Source Data NYC. This column will indicate the reluctance of a city agency to release data on their own accord as well as the success of data analysts in search of this data. "
      ]
    },
    {
      "cell_type": "markdown",
      "metadata": {
        "id": "BxXBRhSlgNeU",
        "colab_type": "text"
      },
      "source": [
        "There has only been one dataset that was voluntarily posted on NYC Open Data which is data from the Department of Consumer Affairs. "
      ]
    },
    {
      "cell_type": "code",
      "metadata": {
        "id": "C9jdMYpuf7-m",
        "colab_type": "code",
        "outputId": "749dd0a9-0679-450b-dfd1-a71bd2b622ba",
        "colab": {
          "base_uri": "https://localhost:8080/",
          "height": 407
        }
      },
      "source": [
        "Foil.sort_values('volunteer', ascending=False)"
      ],
      "execution_count": 0,
      "outputs": [
        {
          "output_type": "execute_result",
          "data": {
            "text/html": [
              "<div>\n",
              "<style scoped>\n",
              "    .dataframe tbody tr th:only-of-type {\n",
              "        vertical-align: middle;\n",
              "    }\n",
              "\n",
              "    .dataframe tbody tr th {\n",
              "        vertical-align: top;\n",
              "    }\n",
              "\n",
              "    .dataframe thead th {\n",
              "        text-align: right;\n",
              "    }\n",
              "</style>\n",
              "<table border=\"1\" class=\"dataframe\">\n",
              "  <thead>\n",
              "    <tr style=\"text-align: right;\">\n",
              "      <th></th>\n",
              "      <th>agency_name</th>\n",
              "      <th>release_of_any_data_</th>\n",
              "      <th>public_data_not_released_yet</th>\n",
              "      <th>already_published_</th>\n",
              "      <th>volunteer</th>\n",
              "    </tr>\n",
              "  </thead>\n",
              "  <tbody>\n",
              "    <tr>\n",
              "      <th>17</th>\n",
              "      <td>Department of Consumer Affairs (DCA)</td>\n",
              "      <td>122.0</td>\n",
              "      <td>89.0</td>\n",
              "      <td>33.0</td>\n",
              "      <td>1.0</td>\n",
              "    </tr>\n",
              "    <tr>\n",
              "      <th>1</th>\n",
              "      <td>Administration for Children's Services (ACS)</td>\n",
              "      <td>4.0</td>\n",
              "      <td>0.0</td>\n",
              "      <td>0.0</td>\n",
              "      <td>0.0</td>\n",
              "    </tr>\n",
              "    <tr>\n",
              "      <th>55</th>\n",
              "      <td>Mayor's Office of Contract Services (MOCS)</td>\n",
              "      <td>13.0</td>\n",
              "      <td>13.0</td>\n",
              "      <td>0.0</td>\n",
              "      <td>0.0</td>\n",
              "    </tr>\n",
              "    <tr>\n",
              "      <th>62</th>\n",
              "      <td>Mayor's Office of Minority and Women Owned Bus...</td>\n",
              "      <td>0.0</td>\n",
              "      <td>0.0</td>\n",
              "      <td>0.0</td>\n",
              "      <td>0.0</td>\n",
              "    </tr>\n",
              "    <tr>\n",
              "      <th>61</th>\n",
              "      <td>Mayor's Office of Media and Entertainment (MOME)</td>\n",
              "      <td>5.0</td>\n",
              "      <td>0.0</td>\n",
              "      <td>5.0</td>\n",
              "      <td>0.0</td>\n",
              "    </tr>\n",
              "    <tr>\n",
              "      <th>...</th>\n",
              "      <td>...</td>\n",
              "      <td>...</td>\n",
              "      <td>...</td>\n",
              "      <td>...</td>\n",
              "      <td>...</td>\n",
              "    </tr>\n",
              "    <tr>\n",
              "      <th>26</th>\n",
              "      <td>Department of Information Technology &amp; Telecom...</td>\n",
              "      <td>255.0</td>\n",
              "      <td>1.0</td>\n",
              "      <td>254.0</td>\n",
              "      <td>0.0</td>\n",
              "    </tr>\n",
              "    <tr>\n",
              "      <th>25</th>\n",
              "      <td>Department of Housing Preservation and Develop...</td>\n",
              "      <td>611.0</td>\n",
              "      <td>7.0</td>\n",
              "      <td>600.0</td>\n",
              "      <td>0.0</td>\n",
              "    </tr>\n",
              "    <tr>\n",
              "      <th>84</th>\n",
              "      <td>Taxi and Limousine Commission (TLC)</td>\n",
              "      <td>1661.0</td>\n",
              "      <td>41.0</td>\n",
              "      <td>123.0</td>\n",
              "      <td>0.0</td>\n",
              "    </tr>\n",
              "    <tr>\n",
              "      <th>0</th>\n",
              "      <td>311 *</td>\n",
              "      <td>NaN</td>\n",
              "      <td>NaN</td>\n",
              "      <td>NaN</td>\n",
              "      <td>NaN</td>\n",
              "    </tr>\n",
              "    <tr>\n",
              "      <th>85</th>\n",
              "      <td>* FOIL metrics for 311 are incorporated as par...</td>\n",
              "      <td>NaN</td>\n",
              "      <td>NaN</td>\n",
              "      <td>NaN</td>\n",
              "      <td>NaN</td>\n",
              "    </tr>\n",
              "  </tbody>\n",
              "</table>\n",
              "<p>86 rows × 5 columns</p>\n",
              "</div>"
            ],
            "text/plain": [
              "                                          agency_name  ...  volunteer\n",
              "17               Department of Consumer Affairs (DCA)  ...        1.0\n",
              "1        Administration for Children's Services (ACS)  ...        0.0\n",
              "55         Mayor's Office of Contract Services (MOCS)  ...        0.0\n",
              "62  Mayor's Office of Minority and Women Owned Bus...  ...        0.0\n",
              "61   Mayor's Office of Media and Entertainment (MOME)  ...        0.0\n",
              "..                                                ...  ...        ...\n",
              "26  Department of Information Technology & Telecom...  ...        0.0\n",
              "25  Department of Housing Preservation and Develop...  ...        0.0\n",
              "84                Taxi and Limousine Commission (TLC)  ...        0.0\n",
              "0                                               311 *  ...        NaN\n",
              "85  * FOIL metrics for 311 are incorporated as par...  ...        NaN\n",
              "\n",
              "[86 rows x 5 columns]"
            ]
          },
          "metadata": {
            "tags": []
          },
          "execution_count": 13
        }
      ]
    },
    {
      "cell_type": "markdown",
      "metadata": {
        "id": "3n9sxYVFlncv",
        "colab_type": "text"
      },
      "source": [
        "# I will drop the 'volunteer' column to eliminate clutter and rename dataframe Foil_slim. "
      ]
    },
    {
      "cell_type": "code",
      "metadata": {
        "id": "_IETKSZxmgsF",
        "colab_type": "code",
        "outputId": "1cea9f71-de4f-4082-f7ed-d28f0ec1e027",
        "colab": {
          "base_uri": "https://localhost:8080/",
          "height": 198
        }
      },
      "source": [
        "Foil_slim = Foil.drop(['volunteer'], axis=1)\n",
        "\n",
        "Foil_slim.head()"
      ],
      "execution_count": 0,
      "outputs": [
        {
          "output_type": "execute_result",
          "data": {
            "text/html": [
              "<div>\n",
              "<style scoped>\n",
              "    .dataframe tbody tr th:only-of-type {\n",
              "        vertical-align: middle;\n",
              "    }\n",
              "\n",
              "    .dataframe tbody tr th {\n",
              "        vertical-align: top;\n",
              "    }\n",
              "\n",
              "    .dataframe thead th {\n",
              "        text-align: right;\n",
              "    }\n",
              "</style>\n",
              "<table border=\"1\" class=\"dataframe\">\n",
              "  <thead>\n",
              "    <tr style=\"text-align: right;\">\n",
              "      <th></th>\n",
              "      <th>agency_name</th>\n",
              "      <th>release_of_any_data_</th>\n",
              "      <th>public_data_not_released_yet</th>\n",
              "      <th>already_published_</th>\n",
              "    </tr>\n",
              "  </thead>\n",
              "  <tbody>\n",
              "    <tr>\n",
              "      <th>0</th>\n",
              "      <td>311 *</td>\n",
              "      <td>NaN</td>\n",
              "      <td>NaN</td>\n",
              "      <td>NaN</td>\n",
              "    </tr>\n",
              "    <tr>\n",
              "      <th>1</th>\n",
              "      <td>Administration for Children's Services (ACS)</td>\n",
              "      <td>4.0</td>\n",
              "      <td>0.0</td>\n",
              "      <td>0.0</td>\n",
              "    </tr>\n",
              "    <tr>\n",
              "      <th>2</th>\n",
              "      <td>Board of Standards and Appeals (BSA)</td>\n",
              "      <td>28.0</td>\n",
              "      <td>28.0</td>\n",
              "      <td>0.0</td>\n",
              "    </tr>\n",
              "    <tr>\n",
              "      <th>3</th>\n",
              "      <td>Brooklyn Borough President (BBP)</td>\n",
              "      <td>5.0</td>\n",
              "      <td>5.0</td>\n",
              "      <td>0.0</td>\n",
              "    </tr>\n",
              "    <tr>\n",
              "      <th>4</th>\n",
              "      <td>Business Integrity Commission (BIC)</td>\n",
              "      <td>36.0</td>\n",
              "      <td>0.0</td>\n",
              "      <td>6.0</td>\n",
              "    </tr>\n",
              "  </tbody>\n",
              "</table>\n",
              "</div>"
            ],
            "text/plain": [
              "                                    agency_name  ...  already_published_\n",
              "0                                         311 *  ...                 NaN\n",
              "1  Administration for Children's Services (ACS)  ...                 0.0\n",
              "2          Board of Standards and Appeals (BSA)  ...                 0.0\n",
              "3              Brooklyn Borough President (BBP)  ...                 0.0\n",
              "4           Business Integrity Commission (BIC)  ...                 6.0\n",
              "\n",
              "[5 rows x 4 columns]"
            ]
          },
          "metadata": {
            "tags": []
          },
          "execution_count": 14
        }
      ]
    },
    {
      "cell_type": "code",
      "metadata": {
        "id": "lFeepRqjvaGw",
        "colab_type": "code",
        "colab": {}
      },
      "source": [
        "Foil_slim_anydata = Foil_slim.drop(['public_data_not_released_yet', 'already_published_'], axis=1)"
      ],
      "execution_count": 0,
      "outputs": []
    },
    {
      "cell_type": "code",
      "metadata": {
        "id": "oUop6pQtwJxA",
        "colab_type": "code",
        "colab": {}
      },
      "source": [
        "Top5= Foil_slim_anydata.sort_values('release_of_any_data_', ascending=False).head()"
      ],
      "execution_count": 0,
      "outputs": []
    },
    {
      "cell_type": "markdown",
      "metadata": {
        "id": "e9yBjdVaoqCL",
        "colab_type": "text"
      },
      "source": [
        "# Export Dataframe as CSV "
      ]
    },
    {
      "cell_type": "markdown",
      "metadata": {
        "id": "w9WHgAcRuSAN",
        "colab_type": "text"
      },
      "source": [
        "Import a library to access files in colab"
      ]
    },
    {
      "cell_type": "code",
      "metadata": {
        "id": "1bMtnBp8uWAX",
        "colab_type": "code",
        "colab": {}
      },
      "source": [
        "from google.colab import files"
      ],
      "execution_count": 0,
      "outputs": []
    },
    {
      "cell_type": "code",
      "metadata": {
        "id": "_GkyhrAnrvh4",
        "colab_type": "code",
        "colab": {}
      },
      "source": [
        "Top5.to_csv('Top5.csv')"
      ],
      "execution_count": 0,
      "outputs": []
    },
    {
      "cell_type": "markdown",
      "metadata": {
        "id": "bB8PDqLnsq_z",
        "colab_type": "text"
      },
      "source": [
        "Download CSV file from collab to computer "
      ]
    },
    {
      "cell_type": "code",
      "metadata": {
        "colab_type": "code",
        "id": "zeal2L-XuQbK",
        "colab": {}
      },
      "source": [
        "files.download('Top5.csv')"
      ],
      "execution_count": 0,
      "outputs": []
    },
    {
      "cell_type": "markdown",
      "metadata": {
        "id": "nnOpoaRMukHx",
        "colab_type": "text"
      },
      "source": [
        "#Plotting with `altair` library "
      ]
    },
    {
      "cell_type": "markdown",
      "metadata": {
        "id": "1QNI4dKuxuAS",
        "colab_type": "text"
      },
      "source": [
        "I will be using a bar chart to plot the City agency that releases the most data public or not."
      ]
    },
    {
      "cell_type": "code",
      "metadata": {
        "id": "9aKbF0AAupst",
        "colab_type": "code",
        "colab": {}
      },
      "source": [
        "import altair as alt"
      ],
      "execution_count": 0,
      "outputs": []
    },
    {
      "cell_type": "code",
      "metadata": {
        "id": "zoh0KWJLxBAr",
        "colab_type": "code",
        "outputId": "32ea7840-3eea-4068-95f4-53817efaf069",
        "colab": {
          "base_uri": "https://localhost:8080/",
          "height": 537
        }
      },
      "source": [
        "alt.Chart(Top5).mark_bar().encode(\n",
        "  x='agency_name',\n",
        "  y='release_of_any_data_'\n",
        ")"
      ],
      "execution_count": 0,
      "outputs": [
        {
          "output_type": "execute_result",
          "data": {
            "text/plain": [
              "alt.Chart(...)"
            ],
            "text/html": [
              "<!DOCTYPE html>\n",
              "<html>\n",
              "<head>\n",
              "  <style>\n",
              "    .vega-actions a {\n",
              "        margin-right: 12px;\n",
              "        color: #757575;\n",
              "        font-weight: normal;\n",
              "        font-size: 13px;\n",
              "    }\n",
              "    .error {\n",
              "        color: red;\n",
              "    }\n",
              "  </style>\n",
              "  <script type=\"text/javascript\" src=\"https://cdn.jsdelivr.net/npm//vega@5\"></script>\n",
              "  <script type=\"text/javascript\" src=\"https://cdn.jsdelivr.net/npm//vega-lite@3.4.0\"></script>\n",
              "  <script type=\"text/javascript\" src=\"https://cdn.jsdelivr.net/npm//vega-embed@4\"></script>\n",
              "</head>\n",
              "<body>\n",
              "  <div id=\"altair-viz\"></div>\n",
              "  <script>\n",
              "    (function(vegaEmbed) {\n",
              "      var spec = {\"config\": {\"view\": {\"width\": 400, \"height\": 300}, \"mark\": {\"tooltip\": null}}, \"data\": {\"name\": \"data-e673fd26c89f4d31e077640231dfb699\"}, \"mark\": \"bar\", \"encoding\": {\"x\": {\"type\": \"nominal\", \"field\": \"agency_name\"}, \"y\": {\"type\": \"quantitative\", \"field\": \"release_of_any_data_\"}}, \"$schema\": \"https://vega.github.io/schema/vega-lite/v3.4.0.json\", \"datasets\": {\"data-e673fd26c89f4d31e077640231dfb699\": [{\"agency_name\": \"Department of Transportation (DOT)\", \"release_of_any_data_\": 3548.0}, {\"agency_name\": \"Taxi and Limousine Commission (TLC)\", \"release_of_any_data_\": 1661.0}, {\"agency_name\": \"Department of Parks and Recreation (DPR)\", \"release_of_any_data_\": 748.0}, {\"agency_name\": \"Department of Correction (DOC)\", \"release_of_any_data_\": 628.0}, {\"agency_name\": \"Department of Housing Preservation and Development (HPD)\", \"release_of_any_data_\": 611.0}]}};\n",
              "      var embedOpt = {\"mode\": \"vega-lite\"};\n",
              "\n",
              "      function showError(el, error){\n",
              "          el.innerHTML = ('<div class=\"error\" style=\"color:red;\">'\n",
              "                          + '<p>JavaScript Error: ' + error.message + '</p>'\n",
              "                          + \"<p>This usually means there's a typo in your chart specification. \"\n",
              "                          + \"See the javascript console for the full traceback.</p>\"\n",
              "                          + '</div>');\n",
              "          throw error;\n",
              "      }\n",
              "      const el = document.getElementById('altair-viz');\n",
              "      vegaEmbed(\"#altair-viz\", spec, embedOpt)\n",
              "        .catch(error => showError(el, error));\n",
              "    })(vegaEmbed);\n",
              "\n",
              "  </script>\n",
              "</body>\n",
              "</html>"
            ]
          },
          "metadata": {
            "tags": []
          },
          "execution_count": 21
        }
      ]
    },
    {
      "cell_type": "code",
      "metadata": {
        "id": "YV4gtC9PzhTJ",
        "colab_type": "code",
        "outputId": "c87b574e-108e-4590-9db8-8009d4c3ec6d",
        "colab": {
          "base_uri": "https://localhost:8080/",
          "height": 164
        }
      },
      "source": [
        "alt.Chart(Top5).mark_bar(color='goldenrod').encode(\n",
        "  x=alt.X(\n",
        "      'release_of_any_data_',\n",
        "      axis=alt.Axis( title='# of Releases')\n",
        "  ),\n",
        "  y=alt.Y(\n",
        "    'agency_name',\n",
        "    sort=alt.EncodingSortField(\n",
        "      field=\"release_of_any_data_\",    # The field to use for the sort\n",
        "      order=\"descending\" # The order to sort in\n",
        "    ),\n",
        "    axis=alt.Axis(title='NYC Agency')\n",
        "  )\n",
        ")"
      ],
      "execution_count": 0,
      "outputs": [
        {
          "output_type": "execute_result",
          "data": {
            "text/plain": [
              "alt.Chart(...)"
            ],
            "text/html": [
              "<!DOCTYPE html>\n",
              "<html>\n",
              "<head>\n",
              "  <style>\n",
              "    .vega-actions a {\n",
              "        margin-right: 12px;\n",
              "        color: #757575;\n",
              "        font-weight: normal;\n",
              "        font-size: 13px;\n",
              "    }\n",
              "    .error {\n",
              "        color: red;\n",
              "    }\n",
              "  </style>\n",
              "  <script type=\"text/javascript\" src=\"https://cdn.jsdelivr.net/npm//vega@5\"></script>\n",
              "  <script type=\"text/javascript\" src=\"https://cdn.jsdelivr.net/npm//vega-lite@3.4.0\"></script>\n",
              "  <script type=\"text/javascript\" src=\"https://cdn.jsdelivr.net/npm//vega-embed@4\"></script>\n",
              "</head>\n",
              "<body>\n",
              "  <div id=\"altair-viz\"></div>\n",
              "  <script>\n",
              "    (function(vegaEmbed) {\n",
              "      var spec = {\"config\": {\"view\": {\"width\": 400, \"height\": 300}, \"mark\": {\"tooltip\": null}}, \"data\": {\"name\": \"data-e673fd26c89f4d31e077640231dfb699\"}, \"mark\": {\"type\": \"bar\", \"color\": \"goldenrod\"}, \"encoding\": {\"x\": {\"type\": \"quantitative\", \"axis\": {\"title\": \"# of Releases\"}, \"field\": \"release_of_any_data_\"}, \"y\": {\"type\": \"nominal\", \"axis\": {\"title\": \"NYC Agency\"}, \"field\": \"agency_name\", \"sort\": {\"field\": \"release_of_any_data_\", \"order\": \"descending\"}}}, \"$schema\": \"https://vega.github.io/schema/vega-lite/v3.4.0.json\", \"datasets\": {\"data-e673fd26c89f4d31e077640231dfb699\": [{\"agency_name\": \"Department of Transportation (DOT)\", \"release_of_any_data_\": 3548.0}, {\"agency_name\": \"Taxi and Limousine Commission (TLC)\", \"release_of_any_data_\": 1661.0}, {\"agency_name\": \"Department of Parks and Recreation (DPR)\", \"release_of_any_data_\": 748.0}, {\"agency_name\": \"Department of Correction (DOC)\", \"release_of_any_data_\": 628.0}, {\"agency_name\": \"Department of Housing Preservation and Development (HPD)\", \"release_of_any_data_\": 611.0}]}};\n",
              "      var embedOpt = {\"mode\": \"vega-lite\"};\n",
              "\n",
              "      function showError(el, error){\n",
              "          el.innerHTML = ('<div class=\"error\" style=\"color:red;\">'\n",
              "                          + '<p>JavaScript Error: ' + error.message + '</p>'\n",
              "                          + \"<p>This usually means there's a typo in your chart specification. \"\n",
              "                          + \"See the javascript console for the full traceback.</p>\"\n",
              "                          + '</div>');\n",
              "          throw error;\n",
              "      }\n",
              "      const el = document.getElementById('altair-viz');\n",
              "      vegaEmbed(\"#altair-viz\", spec, embedOpt)\n",
              "        .catch(error => showError(el, error));\n",
              "    })(vegaEmbed);\n",
              "\n",
              "  </script>\n",
              "</body>\n",
              "</html>"
            ]
          },
          "metadata": {
            "tags": []
          },
          "execution_count": 22
        }
      ]
    }
  ]
}